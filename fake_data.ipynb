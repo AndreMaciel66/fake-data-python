{
 "cells": [
  {
   "cell_type": "markdown",
   "metadata": {},
   "source": [
    "# Fake Data\n",
    "\n",
    "This notebooks exists to perform a creation of a fake dataset using probability to generate our rows.\n",
    "\n",
    "The rules to consider:\n",
    "-  Our model is a star schema\n",
    "-  We will provide a **hard** manipulation in dimensions table\n",
    "-  In fact tables we will calculate a intentional __p__ for every possibility in a list\n",
    "\n",
    "---\n",
    "\n",
    "To do this we will use a numpy function named **random** and the **choice** method."
   ]
  },
  {
   "cell_type": "code",
   "execution_count": 1,
   "metadata": {
    "pycharm": {
     "is_executing": false
    }
   },
   "outputs": [],
   "source": [
    "import pandas as pd\n",
    "import numpy as np"
   ]
  },
  {
   "cell_type": "markdown",
   "source": [
    "#### Function to get available items based in items and dimensions "
   ],
   "metadata": {
    "collapsed": false,
    "pycharm": {
     "name": "#%% md\n"
    }
   }
  },
  {
   "cell_type": "code",
   "execution_count": 2,
   "outputs": [],
   "source": [
    "def items_available(items, item_label, item_dim, max_repeat):\n",
    "    \"\"\"\n",
    "    items: items recurring list\n",
    "    item_label: item label the function will build the groupby count\n",
    "    item_dim: dimension dataframe with all items properties\n",
    "    max_repeat: how many times each item dim needs to appear in target df\n",
    "    \"\"\"\n",
    "    group_count_item = items.groupby(item_label).count()[[items.columns[1]]]\n",
    "    group_count_item = group_count_item.rename(columns={group_count_item.columns[0]: 'count'})\n",
    "    group_count_item = item_dim.merge(group_count_item, how='left', on=item_label)\n",
    "\n",
    "    t = group_count_item[group_count_item['count'] != max_repeat][item_label].to_list()\n",
    "    return t"
   ],
   "metadata": {
    "collapsed": false,
    "pycharm": {
     "name": "#%%\n",
     "is_executing": false
    }
   }
  },
  {
   "cell_type": "markdown",
   "metadata": {},
   "source": [
    "## Names dataset\n",
    "\n",
    "We will use contoso clients (free data from microsoft) to use their fake informations (like names etc.)"
   ]
  },
  {
   "cell_type": "code",
   "execution_count": 9,
   "metadata": {
    "pycharm": {
     "is_executing": false
    }
   },
   "outputs": [],
   "source": [
    "# df_names = pd.read_excel('../pbi-4-business/fakedata/names.xlsx')\n",
    "df_names = pd.read_excel('c:/Users/Cicatr1z66/dev/pbi-4-business/fakedata/names.xlsx')"
   ]
  },
  {
   "cell_type": "markdown",
   "metadata": {},
   "source": [
    "## Data Model"
   ]
  },
  {
   "cell_type": "markdown",
   "metadata": {},
   "source": [
    "## Create dimensions\n",
    "\n",
    "#### Supervisors Dimension\n",
    "\n",
    "-  10 supervisors/lines\n",
    "-  Primary key is an np.arrange(10)"
   ]
  },
  {
   "cell_type": "code",
   "execution_count": 10,
   "metadata": {
    "pycharm": {
     "is_executing": false
    }
   },
   "outputs": [
    {
     "data": {
      "text/plain": "   supervisor_id   supervisor_name\n0              1   Kim Abercrombie\n1              2      Sagiv Hadaya\n2              3        Luka Abrus\n3              4        Kirk Nason\n4              5  Humberto Acevedo",
      "text/html": "<div>\n<style scoped>\n    .dataframe tbody tr th:only-of-type {\n        vertical-align: middle;\n    }\n\n    .dataframe tbody tr th {\n        vertical-align: top;\n    }\n\n    .dataframe thead th {\n        text-align: right;\n    }\n</style>\n<table border=\"1\" class=\"dataframe\">\n  <thead>\n    <tr style=\"text-align: right;\">\n      <th></th>\n      <th>supervisor_id</th>\n      <th>supervisor_name</th>\n    </tr>\n  </thead>\n  <tbody>\n    <tr>\n      <td>0</td>\n      <td>1</td>\n      <td>Kim Abercrombie</td>\n    </tr>\n    <tr>\n      <td>1</td>\n      <td>2</td>\n      <td>Sagiv Hadaya</td>\n    </tr>\n    <tr>\n      <td>2</td>\n      <td>3</td>\n      <td>Luka Abrus</td>\n    </tr>\n    <tr>\n      <td>3</td>\n      <td>4</td>\n      <td>Kirk Nason</td>\n    </tr>\n    <tr>\n      <td>4</td>\n      <td>5</td>\n      <td>Humberto Acevedo</td>\n    </tr>\n  </tbody>\n</table>\n</div>"
     },
     "metadata": {},
     "output_type": "execute_result",
     "execution_count": 10
    }
   ],
   "source": [
    "# df_supervisors['supervisor_id'] -> identity 1 to 10\n",
    "supervisor_id = pd.Series(np.arange(1, 11))\n",
    "supervisor_name = pd.Series(df_names.iloc[:10]['name'])\n",
    "\n",
    "dim_supervisors = pd.DataFrame({'supervisor_id': supervisor_id.values, \n",
    "                                'supervisor_name': supervisor_name.values})\n",
    "dim_supervisors.head(5)"
   ]
  },
  {
   "cell_type": "markdown",
   "metadata": {},
   "source": [
    "#### Analysts Dimension\n",
    "\n",
    "-  50 analysts\n",
    "-  5 analysts per supervisor"
   ]
  },
  {
   "cell_type": "code",
   "execution_count": 12,
   "metadata": {
    "pycharm": {
     "is_executing": false
    }
   },
   "outputs": [
    {
     "data": {
      "text/plain": "   analyst_id    analyst_name  supervisor_id\n0           1  Michael Raheem              5\n1           2       David Ahs             10\n2           3    Miguel Saenz              2\n3           4       Kim Akers             10\n4           5  Kate Taneyhill              5",
      "text/html": "<div>\n<style scoped>\n    .dataframe tbody tr th:only-of-type {\n        vertical-align: middle;\n    }\n\n    .dataframe tbody tr th {\n        vertical-align: top;\n    }\n\n    .dataframe thead th {\n        text-align: right;\n    }\n</style>\n<table border=\"1\" class=\"dataframe\">\n  <thead>\n    <tr style=\"text-align: right;\">\n      <th></th>\n      <th>analyst_id</th>\n      <th>analyst_name</th>\n      <th>supervisor_id</th>\n    </tr>\n  </thead>\n  <tbody>\n    <tr>\n      <td>0</td>\n      <td>1</td>\n      <td>Michael Raheem</td>\n      <td>5</td>\n    </tr>\n    <tr>\n      <td>1</td>\n      <td>2</td>\n      <td>David Ahs</td>\n      <td>10</td>\n    </tr>\n    <tr>\n      <td>2</td>\n      <td>3</td>\n      <td>Miguel Saenz</td>\n      <td>2</td>\n    </tr>\n    <tr>\n      <td>3</td>\n      <td>4</td>\n      <td>Kim Akers</td>\n      <td>10</td>\n    </tr>\n    <tr>\n      <td>4</td>\n      <td>5</td>\n      <td>Kate Taneyhill</td>\n      <td>5</td>\n    </tr>\n  </tbody>\n</table>\n</div>"
     },
     "metadata": {},
     "output_type": "execute_result",
     "execution_count": 12
    }
   ],
   "source": [
    "# create analyst_id and analyst name\n",
    "analyst_id = pd.Series(np.arange(1, 51))\n",
    "analyst_name = pd.Series(df_names.iloc[11:61]['name'])\n",
    "\n",
    "dim_analysts = pd.DataFrame({'analyst_id': analyst_id.values,\n",
    "                             'analyst_name': analyst_name.values})\n",
    "\n",
    "dim_analysts['supervisor_id'] = dim_analysts['analyst_id'].map(lambda x: 0)\n",
    "\n",
    "# iterate over analysts df and fill random supervisors\n",
    "analyst_range = range(len(dim_analysts.index))\n",
    "for analyst in analyst_range:\n",
    "    items_available_list = items_available(dim_analysts, 'supervisor_id', dim_supervisors, 5)\n",
    "    random_sup = np.random.choice(items_available_list)\n",
    "    dim_analysts.at[analyst, 'supervisor_id'] = random_sup\n",
    "\n",
    "dim_analysts.head(5)"
   ]
  },
  {
   "cell_type": "code",
   "execution_count": 12,
   "metadata": {},
   "outputs": [],
   "source": [
    "dim_analysts.to_csv('dim_analyts.csv', index=False)\n",
    "dim_supervisors.to_csv('dim_supervisors.csv', index=False)"
   ]
  },
  {
   "cell_type": "markdown",
   "metadata": {},
   "source": [
    "#### Locations\n",
    "\n",
    "To create random locations we will use a municipios table"
   ]
  },
  {
   "cell_type": "code",
   "execution_count": 14,
   "metadata": {
    "pycharm": {
     "is_executing": false
    }
   },
   "outputs": [],
   "source": [
    "municipios = pd.read_excel('c:/Users/Cicatr1z66/dev/municipios.xlsx')\n",
    "locations_sample = pd.DataFrame({'location_id': np.random.randint(len(municipios.index), size=6)})\n",
    "dim_locations = locations_sample.merge(municipios,\n",
    "                                       how='left',\n",
    "                                       left_on='location_id',\n",
    "                                       right_index=True)[['location_id', 'nome', 'latitude', 'longitude']]"
   ]
  },
  {
   "cell_type": "code",
   "execution_count": 15,
   "metadata": {
    "pycharm": {
     "is_executing": false
    }
   },
   "outputs": [
    {
     "data": {
      "text/plain": "   location_id                   nome  latitude  longitude\n0          105                Alegria -278345.0  -540557.0\n1         3184  Morro Cabeça no Tempo -971891.0  -439072.0\n2         3504         Padre Bernardo -151605.0  -482833.0\n3         4858              São Pedro -225483.0  -479096.0\n4         2392             Itaporanga -730202.0  -381504.0",
      "text/html": "<div>\n<style scoped>\n    .dataframe tbody tr th:only-of-type {\n        vertical-align: middle;\n    }\n\n    .dataframe tbody tr th {\n        vertical-align: top;\n    }\n\n    .dataframe thead th {\n        text-align: right;\n    }\n</style>\n<table border=\"1\" class=\"dataframe\">\n  <thead>\n    <tr style=\"text-align: right;\">\n      <th></th>\n      <th>location_id</th>\n      <th>nome</th>\n      <th>latitude</th>\n      <th>longitude</th>\n    </tr>\n  </thead>\n  <tbody>\n    <tr>\n      <td>0</td>\n      <td>105</td>\n      <td>Alegria</td>\n      <td>-278345.0</td>\n      <td>-540557.0</td>\n    </tr>\n    <tr>\n      <td>1</td>\n      <td>3184</td>\n      <td>Morro Cabeça no Tempo</td>\n      <td>-971891.0</td>\n      <td>-439072.0</td>\n    </tr>\n    <tr>\n      <td>2</td>\n      <td>3504</td>\n      <td>Padre Bernardo</td>\n      <td>-151605.0</td>\n      <td>-482833.0</td>\n    </tr>\n    <tr>\n      <td>3</td>\n      <td>4858</td>\n      <td>São Pedro</td>\n      <td>-225483.0</td>\n      <td>-479096.0</td>\n    </tr>\n    <tr>\n      <td>4</td>\n      <td>2392</td>\n      <td>Itaporanga</td>\n      <td>-730202.0</td>\n      <td>-381504.0</td>\n    </tr>\n  </tbody>\n</table>\n</div>"
     },
     "metadata": {},
     "output_type": "execute_result",
     "execution_count": 15
    }
   ],
   "source": [
    "dim_locations.head(5)"
   ]
  },
  {
   "cell_type": "markdown",
   "metadata": {},
   "source": [
    "#### Clientes Dimension\n",
    "\n",
    "- 12 clients\n",
    "- 2 per location"
   ]
  },
  {
   "cell_type": "code",
   "execution_count": 16,
   "metadata": {
    "pycharm": {
     "is_executing": false
    }
   },
   "outputs": [
    {
     "data": {
      "text/plain": "   client_id              client_name  location_id\n0          1  Karolina Salas-Szlejter          105\n1          2              Anna Bedecs         3504\n2          3         Oliver Szimmetat         3184\n3          4                Ann Beebe          105\n4          5               Jeff Teper         3504",
      "text/html": "<div>\n<style scoped>\n    .dataframe tbody tr th:only-of-type {\n        vertical-align: middle;\n    }\n\n    .dataframe tbody tr th {\n        vertical-align: top;\n    }\n\n    .dataframe thead th {\n        text-align: right;\n    }\n</style>\n<table border=\"1\" class=\"dataframe\">\n  <thead>\n    <tr style=\"text-align: right;\">\n      <th></th>\n      <th>client_id</th>\n      <th>client_name</th>\n      <th>location_id</th>\n    </tr>\n  </thead>\n  <tbody>\n    <tr>\n      <td>0</td>\n      <td>1</td>\n      <td>Karolina Salas-Szlejter</td>\n      <td>105</td>\n    </tr>\n    <tr>\n      <td>1</td>\n      <td>2</td>\n      <td>Anna Bedecs</td>\n      <td>3504</td>\n    </tr>\n    <tr>\n      <td>2</td>\n      <td>3</td>\n      <td>Oliver Szimmetat</td>\n      <td>3184</td>\n    </tr>\n    <tr>\n      <td>3</td>\n      <td>4</td>\n      <td>Ann Beebe</td>\n      <td>105</td>\n    </tr>\n    <tr>\n      <td>4</td>\n      <td>5</td>\n      <td>Jeff Teper</td>\n      <td>3504</td>\n    </tr>\n  </tbody>\n</table>\n</div>"
     },
     "metadata": {},
     "output_type": "execute_result",
     "execution_count": 16
    }
   ],
   "source": [
    "# create analyst_id and analyst name\n",
    "client_id = pd.Series(np.arange(1, 13))\n",
    "client_name = pd.Series(df_names.iloc[62:74]['name'])\n",
    "\n",
    "dim_clients = pd.DataFrame({'client_id': client_id.values,\n",
    "                            'client_name': client_name.values})\n",
    "\n",
    "dim_clients['location_id'] = dim_clients['client_id'].map(lambda x: 0)\n",
    "\n",
    "# iterate over dim clients and fill location ramdomly\n",
    "client_range = range(len(dim_clients.index))\n",
    "\n",
    "for client in client_range:\n",
    "    items_available_list = items_available(dim_clients, 'location_id', dim_locations, 2)\n",
    "    random_location = np.random.choice(items_available_list)\n",
    "    dim_clients.at[client, 'location_id'] = random_location\n",
    "\n",
    "dim_clients.head(5)"
   ]
  },
  {
   "cell_type": "markdown",
   "source": [
    "#### Dim Category\n",
    "\n",
    "-  4 Category\n",
    "  -  Perifericos\n",
    "  -  Hardware\n",
    "  -  Software\n",
    "  -  Infra"
   ],
   "metadata": {
    "collapsed": false,
    "pycharm": {
     "name": "#%% md\n"
    }
   }
  },
  {
   "cell_type": "code",
   "execution_count": null,
   "outputs": [],
   "source": [
    "category_id = pd.Series(np.arange(1, 5))\n",
    "category_name = pd.Series(['Perifericos', 'Hardware', 'Software', 'Infra'])\n",
    "\n",
    "dim_category = pd.DataFrame({'category_id': category_id,\n",
    "                             'category_name': category_name})"
   ],
   "metadata": {
    "collapsed": false,
    "pycharm": {
     "name": "#%%\n"
    }
   }
  },
  {
   "cell_type": "markdown",
   "source": [
    "\n",
    "#### Dim Sub-Category\n",
    "\n",
    "-  8 sub-category\n",
    "-  2 per category"
   ],
   "metadata": {
    "collapsed": false
   }
  },
  {
   "cell_type": "code",
   "execution_count": null,
   "outputs": [],
   "source": [
    "sub_category_id = pd.Series(np.arange(1, 9))\n",
    "sub_category_name = pd.Series(['Keyboard', 'Headset',\n",
    "                               'Motherboard', 'RAM Memory',\n",
    "                               'Visual Studio', 'Power BI',\n",
    "                               'Chair', 'Desk'])\n",
    "category_id = pd.Series([1, 1, 2, 2, 3, 3, 4, 4])\n",
    "\n",
    "dim_sub_category = pd.DataFrame({'sub_category_id': sub_category_id,\n",
    "                                 'sub_category_name': sub_category_name,\n",
    "                                 'category_id': category_id})"
   ],
   "metadata": {
    "collapsed": false,
    "pycharm": {
     "name": "#%%\n"
    }
   }
  },
  {
   "cell_type": "code",
   "execution_count": null,
   "outputs": [],
   "source": [
    "dim_analysts.to_csv('dim_analyts.csv', index=False)\n",
    "dim_supervisors.to_csv('dim_supervisors.csv', index=False)\n",
    "dim_clients.to_csv('dim_clients.csv', index=False)\n",
    "dim_locations.to_csv('dim_locations.csv', index=False)\n",
    "dim_category.to_csv('dim_category.csv', index=False)\n",
    "dim_sub_category.to_csv('dim_sub_category.csv', index=False)\n"
   ],
   "metadata": {
    "collapsed": false,
    "pycharm": {
     "name": "#%%\n"
    }
   }
  }
 ],
 "metadata": {
  "kernelspec": {
   "display_name": "Python 3",
   "language": "python",
   "name": "python3"
  },
  "language_info": {
   "codemirror_mode": {
    "name": "ipython",
    "version": 3
   },
   "file_extension": ".py",
   "mimetype": "text/x-python",
   "name": "python",
   "nbconvert_exporter": "python",
   "pygments_lexer": "ipython3",
   "version": "3.7.3"
  },
  "pycharm": {
   "stem_cell": {
    "cell_type": "raw",
    "source": [],
    "metadata": {
     "collapsed": false
    }
   }
  }
 },
 "nbformat": 4,
 "nbformat_minor": 4
}